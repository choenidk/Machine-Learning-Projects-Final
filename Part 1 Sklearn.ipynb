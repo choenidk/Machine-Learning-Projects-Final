{
 "cells": [
  {
   "cell_type": "markdown",
   "metadata": {},
   "source": [
    "<center><h1>Kiva Dataset / Predicting if a loan form Kiva gets funded</h1></center>"
   ]
  },
  {
   "cell_type": "markdown",
   "metadata": {},
   "source": [
    "<h2><center>Project and Domain Description</center></h2>\n",
    "<br>\n",
    "Kiva is a San Francisco based NGO that provides crowd financing for microloans to low income farmers, entrepreneurs and individuals in primarily developing countries. The size of the loans is typically a couple of hundred dollars and they are used to finance a viariaty of activities such as buying livestock, means of production, goods, education etc.<br>\n",
    "Kiva loans are, compared to loans in developed countries, very small but hthe impact that they have on the living conditions of the borrowers can be significant. Predicting if a loan gets funded is threrefore critical. If we could identify loans that will not get funded we could give the borrower the chance to revise the loan application and resubmit succesfully the application.<br>\n",
    "<br>\n",
    "The analysis and prediction is based on the Kiva dataset that can be found under the Kaggle Competition \"Data Science for Good: Kiva Crowdfunding\". The dataset can be downloaded as a csv file under the following link: https://www.kaggle.com/kiva/data-science-for-good-kiva-crowdfunding/downloads/kiva_loans.csv <br>\n",
    "It consists of 670.000 rows, one for each loan and 20 columns that will give us the features. The main goal of this project is to predict discrete class labels so we are dealing with Classification.\n",
    "Throughout the project I will work with three distinct classes, which are: funded loans,partially funded loans and non funded loans. As we will see later the biggest class is composed of fully funded loans. They make more than 92 % of all loan aplications. Our smallest class makes aproximately 0.5 % of all loan apllications.<br>\n",
    "The chosen algortihms will have to deal with these imbalances. In other words the algorithms will have to able to finde the needle (non funded loans) in the haystack\n",
    "\n",
    "The problem will be approached from two directions. The first approach will be using standard Sklearn algorithms and the second approach will be using a Keras Neural Network. \n",
    "\n",
    "As for the class imbalance I will use two techniques to try to improve the results if the chosen algorithms fails. \n",
    "The two techniques will be downsampling the biggest class an the second will consist in augmenting the two smaller classes using the imblearn SMOTE package.\n",
    "\n",
    "\n",
    "\n",
    "\n",
    "\n"
   ]
  },
  {
   "cell_type": "markdown",
   "metadata": {},
   "source": [
    "<h2><center>Project Overview</center></h2>\n",
    "The project is divided into three parts plus an annex that will deal with the question of imbalance. The reason for the separate annex is that augmenting the classes will leave me with a dataset of approximately 1.8 million records and due to the use of a standard 1.7 GHz processor the computing time is pretty large.\n",
    "<h3>1) Overview and Description of the the three classes</h3>\n",
    "\n",
    "<li>Preprocessing / Identify nans,outliers</li>\n",
    "<li>Description and Visualisation of all loans</li>\n",
    "<li>Preprocessing</li>\n",
    "<li>Establish a Benchmark</li>\n",
    "    \n",
    "<h3>2) Implement 4 Sklearn Algorithms</h3>\n",
    "<li>Create a pipeline of four Sklearn Algorithms</li>\n",
    "<li>Select the best performer and fine tune parameters</li>\n",
    "\n",
    "<h3>3.1) Implement a Keras NN</h3>\n",
    "<li>Preprocessing of data for Keras</li>\n",
    "<li>Find the best parameters using Gridsearch</li>\n",
    "<li>Select the best model and fine tune parameters</li>\n",
    "<li>Compare the two approaches</li>\n",
    "\n",
    "<h3>3.2) Dealing with imbalance</h3>\n",
    "<li>Data reduction and Augmentation</li>\n",
    "\n",
    "\n"
   ]
  },
  {
   "cell_type": "markdown",
   "metadata": {},
   "source": [
    "<h2><center>Filestructure</center></h2>"
   ]
  },
  {
   "cell_type": "markdown",
   "metadata": {},
   "source": [
    "Three separate notebooks covering the three parts(Kiva First Part.ipynb,Keras.ipynb, Resampling.ipynb) plus two folders. The first one for the datafiles and the second one for the weights."
   ]
  },
  {
   "cell_type": "markdown",
   "metadata": {},
   "source": [
    "<h2><center>1) Overview and Description of the data and the three classes</h2></center>"
   ]
  },
  {
   "cell_type": "markdown",
   "metadata": {},
   "source": [
    "<h3>Misclassifications of the target and their consequences</h3>"
   ]
  },
  {
   "cell_type": "markdown",
   "metadata": {},
   "source": [
    "In the perfect world I would create algorithm were my all my predictions would match the real outcomes. In the real world this will not happen and there will be miscalssifications i.e prediction of an outcome does not match the real outcome. Some of these missclassifications will have a higher negative impact on the borrower. This said we also could end up with positive efects of misclassifications. In order to see what can happen when the algorithm missclassifies I have made a overview of the cases:"
   ]
  },
  {
   "cell_type": "markdown",
   "metadata": {},
   "source": [
    "\n",
    "| Prediction | Real Outcome   | Consequence   |\n",
    "|------|------|------|\n",
    "|   Funded | Non Funded |The borrower will think everything is OK and will not revise his application. The borrowers project will not receive funding and die.|\n",
    "|   Funded | Partially funded |The borrower will think that his project will be fully funded and will not revise his application. The borrower will receive less funding.|\n",
    "|   Partially funded  | Non funded |The borrower might improve the application. If he doesn't he will not get funding for his project.|\n",
    "|   Partially funded | Funded |The borrower might improve the application. But even if he doesn't he will receive the full amount.\n",
    "|   Non funded | Funded |The borrower will feel that he has to improve his application. But, even if the borrower does nothing he will receive the funds\n",
    "|   Non funded| Partially funded |The borrower will feel that he has to improve his application.Even if he doesn't there still will be some funding|\n"
   ]
  },
  {
   "cell_type": "markdown",
   "metadata": {},
   "source": [
    "As we can see there are two combinations of prediction/outcome that would be detrimental for the borrower. If we predict that a loan will be funded and the real outcome of the loan application is not fundet our borrower might lose a chance to escape poverty. A similar thing happens with the real outcome partially funded and the prediction funded. We don't want any False positives for these two cases.\n"
   ]
  },
  {
   "cell_type": "code",
   "execution_count": 1,
   "metadata": {
    "scrolled": true
   },
   "outputs": [],
   "source": [
    "import pandas as pd\n",
    "import numpy as np\n",
    "\n",
    "#load the kiva loans dataset\n",
    "kiva_raw = pd.read_csv('data_files/kiva_loans.csv')"
   ]
  },
  {
   "cell_type": "markdown",
   "metadata": {},
   "source": [
    ".describe and .median will give short glimpse of the kiva loans. They are very small with a median of 450 USD. A hefty outlier of 100.000. Note that funded amount is lower than loan amount which indicates that some loans might get underfunded or not funded at all."
   ]
  },
  {
   "cell_type": "code",
   "execution_count": 2,
   "metadata": {},
   "outputs": [
    {
     "data": {
      "text/plain": [
       "id                992780.0\n",
       "funded_amount        450.0\n",
       "loan_amount          500.0\n",
       "partner_id           145.0\n",
       "term_in_months        13.0\n",
       "lender_count          13.0\n",
       "dtype: float64"
      ]
     },
     "execution_count": 2,
     "metadata": {},
     "output_type": "execute_result"
    }
   ],
   "source": [
    "kiva_raw.median()"
   ]
  },
  {
   "cell_type": "code",
   "execution_count": 3,
   "metadata": {},
   "outputs": [
    {
     "data": {
      "text/html": [
       "<div>\n",
       "<style scoped>\n",
       "    .dataframe tbody tr th:only-of-type {\n",
       "        vertical-align: middle;\n",
       "    }\n",
       "\n",
       "    .dataframe tbody tr th {\n",
       "        vertical-align: top;\n",
       "    }\n",
       "\n",
       "    .dataframe thead th {\n",
       "        text-align: right;\n",
       "    }\n",
       "</style>\n",
       "<table border=\"1\" class=\"dataframe\">\n",
       "  <thead>\n",
       "    <tr style=\"text-align: right;\">\n",
       "      <th></th>\n",
       "      <th>id</th>\n",
       "      <th>funded_amount</th>\n",
       "      <th>loan_amount</th>\n",
       "      <th>partner_id</th>\n",
       "      <th>term_in_months</th>\n",
       "      <th>lender_count</th>\n",
       "    </tr>\n",
       "  </thead>\n",
       "  <tbody>\n",
       "    <tr>\n",
       "      <th>count</th>\n",
       "      <td>6.712050e+05</td>\n",
       "      <td>671205.000000</td>\n",
       "      <td>671205.000000</td>\n",
       "      <td>657698.000000</td>\n",
       "      <td>671205.000000</td>\n",
       "      <td>671205.000000</td>\n",
       "    </tr>\n",
       "    <tr>\n",
       "      <th>mean</th>\n",
       "      <td>9.932486e+05</td>\n",
       "      <td>785.995061</td>\n",
       "      <td>842.397107</td>\n",
       "      <td>178.199616</td>\n",
       "      <td>13.739022</td>\n",
       "      <td>20.590922</td>\n",
       "    </tr>\n",
       "    <tr>\n",
       "      <th>std</th>\n",
       "      <td>1.966113e+05</td>\n",
       "      <td>1130.398941</td>\n",
       "      <td>1198.660073</td>\n",
       "      <td>94.247581</td>\n",
       "      <td>8.598919</td>\n",
       "      <td>28.459551</td>\n",
       "    </tr>\n",
       "    <tr>\n",
       "      <th>min</th>\n",
       "      <td>6.530470e+05</td>\n",
       "      <td>0.000000</td>\n",
       "      <td>25.000000</td>\n",
       "      <td>9.000000</td>\n",
       "      <td>1.000000</td>\n",
       "      <td>0.000000</td>\n",
       "    </tr>\n",
       "    <tr>\n",
       "      <th>25%</th>\n",
       "      <td>8.230720e+05</td>\n",
       "      <td>250.000000</td>\n",
       "      <td>275.000000</td>\n",
       "      <td>126.000000</td>\n",
       "      <td>8.000000</td>\n",
       "      <td>7.000000</td>\n",
       "    </tr>\n",
       "    <tr>\n",
       "      <th>50%</th>\n",
       "      <td>9.927800e+05</td>\n",
       "      <td>450.000000</td>\n",
       "      <td>500.000000</td>\n",
       "      <td>145.000000</td>\n",
       "      <td>13.000000</td>\n",
       "      <td>13.000000</td>\n",
       "    </tr>\n",
       "    <tr>\n",
       "      <th>75%</th>\n",
       "      <td>1.163653e+06</td>\n",
       "      <td>900.000000</td>\n",
       "      <td>1000.000000</td>\n",
       "      <td>204.000000</td>\n",
       "      <td>14.000000</td>\n",
       "      <td>24.000000</td>\n",
       "    </tr>\n",
       "    <tr>\n",
       "      <th>max</th>\n",
       "      <td>1.340339e+06</td>\n",
       "      <td>100000.000000</td>\n",
       "      <td>100000.000000</td>\n",
       "      <td>536.000000</td>\n",
       "      <td>158.000000</td>\n",
       "      <td>2986.000000</td>\n",
       "    </tr>\n",
       "  </tbody>\n",
       "</table>\n",
       "</div>"
      ],
      "text/plain": [
       "                 id  funded_amount    loan_amount     partner_id  \\\n",
       "count  6.712050e+05  671205.000000  671205.000000  657698.000000   \n",
       "mean   9.932486e+05     785.995061     842.397107     178.199616   \n",
       "std    1.966113e+05    1130.398941    1198.660073      94.247581   \n",
       "min    6.530470e+05       0.000000      25.000000       9.000000   \n",
       "25%    8.230720e+05     250.000000     275.000000     126.000000   \n",
       "50%    9.927800e+05     450.000000     500.000000     145.000000   \n",
       "75%    1.163653e+06     900.000000    1000.000000     204.000000   \n",
       "max    1.340339e+06  100000.000000  100000.000000     536.000000   \n",
       "\n",
       "       term_in_months   lender_count  \n",
       "count   671205.000000  671205.000000  \n",
       "mean        13.739022      20.590922  \n",
       "std          8.598919      28.459551  \n",
       "min          1.000000       0.000000  \n",
       "25%          8.000000       7.000000  \n",
       "50%         13.000000      13.000000  \n",
       "75%         14.000000      24.000000  \n",
       "max        158.000000    2986.000000  "
      ]
     },
     "execution_count": 3,
     "metadata": {},
     "output_type": "execute_result"
    }
   ],
   "source": [
    "kiva_raw.describe()"
   ]
  },
  {
   "cell_type": "markdown",
   "metadata": {},
   "source": [
    "<b>Identifying the three classes</b>\n",
    "We don't have a column that gives us a label whether a loan belongs to one of the three classes so I'll have to find tha label by using thw two exixting columns funded amount and loan_amount. \n",
    "\n",
    "We have a fully funded loan when:  <b>loan_amount - funded_amount = 0</b><br> \n",
    "We have a  non funded loan when:  <b>funded_amount = 0 </b><br>\n",
    "We have a partially funded loan when: <b>loan_amount - funded_amount > 0 </b><br>"
   ]
  },
  {
   "cell_type": "code",
   "execution_count": 4,
   "metadata": {},
   "outputs": [
    {
     "name": "stdout",
     "output_type": "stream",
     "text": [
      "Non funded in %:  0.5431266305438491\n",
      "Partially funded in %:  7.215733493879189\n"
     ]
    }
   ],
   "source": [
    "kiva_non_funded = kiva_raw[kiva_raw['funded_amount'].astype(int) == 0]\n",
    "kiva_partially_funded= kiva_raw[(kiva_raw['loan_amount'] - kiva_raw['funded_amount'].astype(int)>0) & (kiva_raw['funded_amount'] !=0)]\n",
    "kiva_funded = kiva_raw[(kiva_raw['loan_amount'] - kiva_raw['funded_amount'].astype(int)==0)]\n",
    "\n",
    "\n",
    "print('Non funded in %: ',kiva_non_funded.shape[0]/kiva_funded.shape[0]*100)\n",
    "print('Partially funded in %: ',kiva_partially_funded.shape[0]/kiva_funded.shape[0]*100)"
   ]
  },
  {
   "cell_type": "markdown",
   "metadata": {},
   "source": [
    "<center><h2>1.1 Identify nans and outliers</h2></center>"
   ]
  },
  {
   "cell_type": "markdown",
   "metadata": {},
   "source": [
    "<b>Outlier Detection and Removal</b><br>\n",
    "As we can see from pd.describe we have alleready a max value that lies extremly far away from the mean (more than 80 times the std). In order to fid out if there are more examples of extrem high loans let's have a look at the distribution of loans."
   ]
  },
  {
   "cell_type": "code",
   "execution_count": 5,
   "metadata": {},
   "outputs": [
    {
     "data": {
      "image/png": "[encoded data removed]",
      "text/plain": [
       "<Figure size 1440x216 with 1 Axes>"
      ]
     },
     "metadata": {},
     "output_type": "display_data"
    }
   ],
   "source": [
    "import matplotlib.pyplot as plt\n",
    "%matplotlib inline\n",
    "loan_amount = kiva_raw.loan_amount\n",
    "\n",
    "plt.subplots(figsize=(20,3))\n",
    "plt.hist(loan_amount, bins=100,rwidth=0.85)\n",
    "plt.ylabel('Number of loans', fontsize=20)\n",
    "plt.xticks(rotation=90,fontsize=20)\n",
    "\n",
    "plt.xlabel('Loan size', fontsize=20)\n",
    "plt.title('Loan Size histogram distribution before outlier removal', fontsize=24)\n",
    "plt.show()"
   ]
  },
  {
   "cell_type": "markdown",
   "metadata": {},
   "source": [
    "As we can see most loans have a loan amount between 0 and 10000. So the next step is to find outliers in the general population, analize them and eventually remove them. <br>As we are not dealing with a gausian distribution I cannot use the Z score. I used the method of interquartiale range and I have only focused on the upper bound and disregarded the lower band as the loans are per definition micro/small."
   ]
  },
  {
   "cell_type": "code",
   "execution_count": 6,
   "metadata": {},
   "outputs": [
    {
     "name": "stdout",
     "output_type": "stream",
     "text": [
      "2087.5\n"
     ]
    }
   ],
   "source": [
    "\n",
    "first = kiva_raw.loan_amount.quantile(.25)\n",
    "third = kiva_raw.loan_amount.quantile(.75)\n",
    "upper_bound = ((third -first)*1.5)+third\n",
    "print(upper_bound)"
   ]
  },
  {
   "cell_type": "markdown",
   "metadata": {},
   "source": [
    "The upper bound for our outlier removal would be 2087.5. In order to find out if I have to remove the outliers we have to consider one thing.\n",
    "\n",
    "The main goal of this project is to predict whether a loan will be funded or not so let's compare the occurrunces of non funded loans in the kiva set with non funded loans and without outliers."
   ]
  },
  {
   "cell_type": "code",
   "execution_count": 7,
   "metadata": {},
   "outputs": [
    {
     "name": "stdout",
     "output_type": "stream",
     "text": [
      "590 loans that represent 1.1570215519777225 % off all outliers\n",
      "3383 loans that represent 0.5040188913968162 % off all loans\n"
     ]
    }
   ],
   "source": [
    "kiva_outliers = kiva_raw.loc[kiva_raw['loan_amount'] > upper_bound]\n",
    "#get the non funded loans for both groups\n",
    "non_funded_kiva = kiva_raw.loc[(kiva_raw.funded_amount == 0)]\n",
    "non_funded_outliers = kiva_outliers.loc[(kiva_outliers.funded_amount == 0)]\n",
    "#get the number for each group\n",
    "non_funded_outliers_num = len(non_funded_outliers.index)\n",
    "non_funded_kiva_num = len(non_funded_kiva.index)\n",
    "#print(non_funded_outliers_num,non_funded_kiva_num)\n",
    "#get the percentage for each group\n",
    "outliers_pct = non_funded_outliers_num/(len(kiva_outliers.index))*100\n",
    "kiva_pct = non_funded_kiva_num/len(kiva_raw.index)*100\n",
    "\n",
    "print(non_funded_outliers_num,'loans that represent',outliers_pct,'% off all outliers')\n",
    "#print (outliers_pct,kiva_pct)\n",
    "print (non_funded_kiva_num,'loans that represent',kiva_pct, '% off all loans' )"
   ]
  },
  {
   "cell_type": "markdown",
   "metadata": {},
   "source": [
    "Using the interquartiale range has in this case the risk of information loss as the non funded loans are overrepresented in the outliers.\n",
    "The fact that non fundet loans are overrepresentet in the outliers could indicate that the some of the amounts of of the feature loan_amount were judged to be to high by the lenders and therefore the outliers could help explain the outcome of a loan application.\n",
    "\n",
    "We still have some outliers that will distort the visualization of the groups. So I will set a manual threshhold of 10000 in order to produce more compact graphs, but will continue to use the full dataset for the algorithms.\n"
   ]
  },
  {
   "cell_type": "markdown",
   "metadata": {},
   "source": [
    "<b>Dealing with nans</b><br>\n",
    "In this particular case we have to consider the meaning and the consecuence of nan. Submitting a loan application, where some of the information (for example gender or repayment interval) is missing could lead to the result that the loan is not going to be funded. \n",
    "\n",
    "Fortunately most of the columns that I am going to use in the project have no nans. There is though one that includes  more than 4000 nans. The column/feature is called use and it is used to give brief description of the purpose of the loan.\n",
    "As You can see from the box below the non fundet make up 3 percent of the applications where the description in the column use is missing.\n"
   ]
  },
  {
   "cell_type": "code",
   "execution_count": 8,
   "metadata": {},
   "outputs": [
    {
     "name": "stdout",
     "output_type": "stream",
     "text": [
      "Partially funded loans with no descrition of use : 557\n",
      "Non funded loans with no descrition of use : 131\n",
      "non funded loans as a percentage of all loans  with no descrition of use: 3.0954631379962194\n",
      "Partially funded loans as a percentage of all loans with no descrition of use:: 13.161625708884689\n"
     ]
    }
   ],
   "source": [
    "nansall = kiva_raw[kiva_raw.use.isna()]\n",
    "\n",
    "nansall_non_funded = nansall[nansall['funded_amount'].astype(int) == 0]\n",
    "nansall_partially_funded = nansall[(nansall['loan_amount'] - nansall['funded_amount'].astype(int)>0) & (nansall['funded_amount'] !=0)]\n",
    "\n",
    "print('Partially funded loans with no descrition of use :',nansall_partially_funded.shape[0])\n",
    "print('Non funded loans with no descrition of use :',nansall_non_funded.shape[0])\n",
    "print('non funded loans as a percentage of all loans  with no descrition of use:',nansall_non_funded.shape[0]/nansall.shape[0]*100)\n",
    "print('Partially funded loans as a percentage of all loans with no descrition of use::',nansall_partially_funded.shape[0]/nansall.shape[0]*100)"
   ]
  },
  {
   "cell_type": "markdown",
   "metadata": {},
   "source": [
    "<b>Setting an outlier threshhold for visualization purposes</b>"
   ]
  },
  {
   "cell_type": "code",
   "execution_count": 9,
   "metadata": {},
   "outputs": [],
   "source": [
    "# All loans Threshhold USD 100000\n",
    "kiva_visual = kiva_raw.loc[kiva_raw['loan_amount'] <= 10000]\n",
    "kiva_funded_visual = kiva_funded.loc[kiva_funded['loan_amount'] <= 10000]\n",
    "kiva_non_funded_visual = kiva_non_funded.loc[kiva_non_funded['loan_amount'] <= 10000]\n",
    "kiva_partially_funded_visual = kiva_partially_funded.loc[kiva_partially_funded['loan_amount'] <= 10000]"
   ]
  },
  {
   "cell_type": "code",
   "execution_count": 10,
   "metadata": {},
   "outputs": [
    {
     "data": {
      "image/png": "[encoded data removed]",
      "text/plain": [
       "<Figure size 1080x216 with 1 Axes>"
      ]
     },
     "metadata": {},
     "output_type": "display_data"
    }
   ],
   "source": [
    "loan_amount = kiva_visual.loan_amount\n",
    "\n",
    "\n",
    "plt.subplots(figsize=(15,3))\n",
    "plt.hist(loan_amount, bins=100,rwidth=0.85)\n",
    "\n",
    "plt.ylabel('Number of loans', fontsize=20)\n",
    "plt.xticks(rotation=90,fontsize=20)\n",
    "\n",
    "plt.xlabel('Loan size', fontsize=20)\n",
    "plt.title('Loan Size histogram distribution after outlier removal', fontsize=24)\n",
    "plt.show()"
   ]
  },
  {
   "cell_type": "markdown",
   "metadata": {},
   "source": [
    "<h2><center>1.2 Comparing non funded and partially funded loans with funded loans visualy</center></h2>\n",
    "\n",
    "In order to to see if we can see patterns in the data I am going to to compare visuly both groups. I am going to focus on four metrics:<br>\n",
    "<ul>\n",
    "<li>Amount of the loan\n",
    "<li>Repayment interval in months\n",
    "<li>Gender\n",
    "<li>The biggest 5 sectors\n",
    "\n",
    "<ul>"
   ]
  },
  {
   "cell_type": "markdown",
   "metadata": {},
   "source": [
    "<h3><center>Amount of the loan</center></h3>\n"
   ]
  },
  {
   "cell_type": "code",
   "execution_count": 11,
   "metadata": {},
   "outputs": [
    {
     "data": {
      "image/png": "[encoded data removed]",
      "text/plain": [
       "<Figure size 1440x576 with 1 Axes>"
      ]
     },
     "metadata": {},
     "output_type": "display_data"
    }
   ],
   "source": [
    "import numpy as np\n",
    "import pandas as pd\n",
    "import seaborn as sns\n",
    "import matplotlib.pyplot as plt\n",
    "from scipy import stats\n",
    "\n",
    "\n",
    "\n",
    "\n",
    "amount = kiva_funded_visual.loan_amount\n",
    "amount_non_fundet = kiva_non_funded_visual.loan_amount\n",
    "amount_partially_fundet= kiva_partially_funded_visual.loan_amount\n",
    "\n",
    "\n",
    "\n",
    "\n",
    "plt.figure(figsize=(20,8))\n",
    "ax=sns.distplot(amount,hist=False,color='r',label='Funded')\n",
    "ax=sns.distplot(amount_non_fundet,hist=False, color = 'b',label='Non Fundet')\n",
    "ax=sns.distplot(amount_partially_fundet,hist=False, color = 'g',label='Partially Fundet')"
   ]
  },
  {
   "cell_type": "markdown",
   "metadata": {},
   "source": [
    "Looking at the distributins of the three types it is striking that they all show similar patterns. All three are heavily skewed towalds the left. Especially funded and non funded loans show more similarity than funded and partially funded."
   ]
  },
  {
   "cell_type": "markdown",
   "metadata": {},
   "source": [
    "<h3><center>Terms in months</center></h3>"
   ]
  },
  {
   "cell_type": "code",
   "execution_count": 12,
   "metadata": {},
   "outputs": [
    {
     "data": {
      "image/png": "[encoded data removed]",
      "text/plain": [
       "<Figure size 1440x432 with 1 Axes>"
      ]
     },
     "metadata": {},
     "output_type": "display_data"
    }
   ],
   "source": [
    "amount = kiva_funded_visual.term_in_months\n",
    "amount_non_fundet = kiva_non_funded_visual.term_in_months\n",
    "amount_partially_fundet= kiva_partially_funded_visual.term_in_months\n",
    "\n",
    "\n",
    "\n",
    "\n",
    "plt.figure(figsize=(20,6))\n",
    "plt.title('Duration----Funded versus Non funded')\n",
    "ax=sns.distplot(amount,hist=False,color='r',label='Funded')\n",
    "ax=sns.distplot(amount_non_fundet,hist=False, color = 'b',label='Non Fundet')\n",
    "#ax=sns.distplot(amount_partially_fundet,hist=False, color = 'g',label='Partially Fundet')\n",
    "\n",
    "\n"
   ]
  },
  {
   "cell_type": "code",
   "execution_count": null,
   "metadata": {},
   "outputs": [],
   "source": []
  },
  {
   "cell_type": "code",
   "execution_count": 13,
   "metadata": {},
   "outputs": [
    {
     "data": {
      "image/png": "[encoded data removed]",
      "text/plain": [
       "<Figure size 1440x432 with 1 Axes>"
      ]
     },
     "metadata": {},
     "output_type": "display_data"
    }
   ],
   "source": [
    "plt.figure(figsize=(20,6))\n",
    "\n",
    "plt.title('Duration----Funded versus Partially funded')\n",
    "ax=sns.distplot(amount,hist=False,color='r',label='Funded')\n",
    "ax=sns.distplot(amount_partially_fundet,hist=False, color = 'g',label='Partially Fundet')\n"
   ]
  },
  {
   "cell_type": "markdown",
   "metadata": {},
   "source": [
    "The overall picture for the duration/terms in month does not reveal clear signals on the outcome of a loan applicatin. There are small differences in the distributions such as partially funded loans could be slightly longer."
   ]
  },
  {
   "cell_type": "markdown",
   "metadata": {},
   "source": [
    "<h2><center>Loans buy gender</center></h2>"
   ]
  },
  {
   "cell_type": "code",
   "execution_count": 14,
   "metadata": {},
   "outputs": [
    {
     "data": {
      "text/plain": [
       "female                                                                                                                                                                                                                                                                                                              426502\n",
       "male                                                                                                                                                                                                                                                                                                                134710\n",
       "female, female                                                                                                                                                                                                                                                                                                       12164\n",
       "female, female, female                                                                                                                                                                                                                                                                                               11676\n",
       "female, female, female, female                                                                                                                                                                                                                                                                                        9052\n",
       "female, female, female, female, female                                                                                                                                                                                                                                                                                7568\n",
       "female, female, female, female, female, female                                                                                                                                                                                                                                                                        2674\n",
       "female, female, female, female, female, female, female, female, female, female                                                                                                                                                                                                                                        2185\n",
       "female, female, female, female, female, female, female                                                                                                                                                                                                                                                                2127\n",
       "female, female, female, female, female, female, female, female                                                                                                                                                                                                                                                        1936\n",
       "female, female, female, female, female, female, female, female, female, female, female, female, female, female, female, female, female                                                                                                                                                                                1692\n",
       "male, female                                                                                                                                                                                                                                                                                                          1572\n",
       "female, male                                                                                                                                                                                                                                                                                                          1532\n",
       "female, female, female, female, female, female, female, female, female, female, female, female, female, female, female                                                                                                                                                                                                1283\n",
       "female, female, female, female, female, female, female, female, female                                                                                                                                                                                                                                                1207\n",
       "female, female, female, female, female, female, female, female, female, female, female, female, female, female, female, female, female, female                                                                                                                                                                         999\n",
       "male, male                                                                                                                                                                                                                                                                                                             944\n",
       "male, female, female                                                                                                                                                                                                                                                                                                   900\n",
       "female, male, female                                                                                                                                                                                                                                                                                                   896\n",
       "female, female, male                                                                                                                                                                                                                                                                                                   881\n",
       "female, female, female, female, female, female, female, female, female, female, female, female, female, female, female, female                                                                                                                                                                                         837\n",
       "male, male, male                                                                                                                                                                                                                                                                                                       827\n",
       "female, female, female, female, female, female, female, female, female, female, female                                                                                                                                                                                                                                 745\n",
       "female, female, female, female, female, female, female, female, female, female, female, female, female, female, female, female, female, female, female                                                                                                                                                                 734\n",
       "female, female, female, female, female, female, female, female, female, female, female, female, female, female, female, female, female, female, female, female                                                                                                                                                         696\n",
       "male, male, male, male, male                                                                                                                                                                                                                                                                                           613\n",
       "female, male, female, female                                                                                                                                                                                                                                                                                           604\n",
       "female, female, male, female                                                                                                                                                                                                                                                                                           596\n",
       "female, female, female, female, female, female, female, female, female, female, female, female                                                                                                                                                                                                                         573\n",
       "female, female, female, male                                                                                                                                                                                                                                                                                           568\n",
       "                                                                                                                                                                                                                                                                                                                     ...  \n",
       "female, female, male, male, male, male, male, male, male, female, male, female, male, male, male                                                                                                                                                                                                                         1\n",
       "female, female, female, female, female, male, female, female, female, male, female, female, male, female, female, female                                                                                                                                                                                                 1\n",
       "female, female, male, female, female, male, male, female, female, female, male, female, male, female, female, female, female, male, male                                                                                                                                                                                 1\n",
       "female, female, female, female, female, female, female, female, female, female, female, female, female, female, female, female, female, female, female, female, male, female, female, female, female, female, female, female, female, female, female, female, female, female, female, female, female, female             1\n",
       "male, male, female, male, male, female, male, male, male, male, female, female, male, male, female                                                                                                                                                                                                                       1\n",
       "female, male, female, male, female, female, female, male, male, male, female, female, male, female                                                                                                                                                                                                                       1\n",
       "female, female, female, female, male, female, male, male, female, female, female, male, female, female                                                                                                                                                                                                                   1\n",
       "female, male, male, female, female, female, male, male, female, male, female, male                                                                                                                                                                                                                                       1\n",
       "female, female, female, female, female, female, female, female, female, female, female, female, male, female, female, female, female, female, male, female, male, female, female, female, female, female, female, female, female, female, female, female, female, female, female, female, female, female, female         1\n",
       "female, female, male, female, female, female, female, female, female, female, male, female, female, female, female, female, female, female, female, female, female, female, female, female                                                                                                                               1\n",
       "female, male, male, male, male, male, male, male, female, male, male, male, female, female, female, female, male, male, female, male, female, male, male                                                                                                                                                                 1\n",
       "female, male, male, female, female, female, male, female, male, female, male, female, female, male, male                                                                                                                                                                                                                 1\n",
       "female, female, female, female, female, female, female, female, female, female, female, female, female, female, female, female, male, female, female, female, male, female                                                                                                                                               1\n",
       "female, female, female, female, male, female, male, female, female, male, female, male, female, female                                                                                                                                                                                                                   1\n",
       "male, male, male, female, female, male, male, female, male, female, female, female, female, female, male, male, male                                                                                                                                                                                                     1\n",
       "female, male, male, female, female, male, female, female, female, female, female, male, female, female                                                                                                                                                                                                                   1\n",
       "female, female, female, female, female, female, female, female, female, female, male, male, female, female                                                                                                                                                                                                               1\n",
       "female, female, male, female, female, male, female, male, male, male, female                                                                                                                                                                                                                                             1\n",
       "female, male, male, male, male, male, male, female, male, male                                                                                                                                                                                                                                                           1\n",
       "female, female, female, female, female, female, female, female, female, female, male, male, female, female, female, female, female, female, male, female                                                                                                                                                                 1\n",
       "female, female, female, male, female, female, female, male, female, female, female, female, female, female, female, female, female, female, female, female, female, female, female, female, female, female, female, female, female, female, female, female, female, female, female, female, female                       1\n",
       "male, male, male, female, female, female, female, female, female, male, male, male, female, female, male, female, female, female                                                                                                                                                                                         1\n",
       "female, female, female, female, female, female, female, male, female, male, female, female, male, female, female, male, female, female, male, female, female, female, female, male, male, male, male                                                                                                                     1\n",
       "female, female, female, male, female, male, female, female, male, female, female, female, female, male, male                                                                                                                                                                                                             1\n",
       "female, male, female, male, female, female, female, female, male, male, male, male, female, female, female, female, female, female, female, female, male, male, male                                                                                                                                                     1\n",
       "female, male, female, female, female, male, male, male, female, male, female, female, male, female, male, female, female, female, male, male, female, female, female, male, female, male, male, female, male, female, male, female, female, female                                                                       1\n",
       "female, female, male, female, male, female, female, male, male, male                                                                                                                                                                                                                                                     1\n",
       "male, female, male, male, male, male, female, female, female, female, male, female, female                                                                                                                                                                                                                               1\n",
       "female, male, female, female, male, male, female, male, female, male, male, female, female, male, female, female, female, male                                                                                                                                                                                           1\n",
       "female, male, male, male, male, female, female, male, male, female, female, female                                                                                                                                                                                                                                       1\n",
       "Name: borrower_genders, Length: 11298, dtype: int64"
      ]
     },
     "execution_count": 14,
     "metadata": {},
     "output_type": "execute_result"
    }
   ],
   "source": [
    "kiva_raw.borrower_genders.value_counts()"
   ]
  },
  {
   "cell_type": "markdown",
   "metadata": {},
   "source": [
    "When we look closer at the value counts of the feature we can distinguish the observations. Most loan application are made by one women, followed by loan application made by one man. We can also see two extra \"groups\" one is made of loan applications where the gender label is missing. The others cluster of loan application is made uf groups(more than one borrower). They can be mixed (men and women) or single sex.\n",
    "In order to separate the two genders I will group the applications after the following criteria. A group comprised of only women will be considered Female and the same goes for groups made up of only men.\n",
    "<br>\n",
    "The following code implements this idea. I use the split method to split strings around given separator, the \",\" and then I count the occurrences of women and man for each loan application.\n"
   ]
  },
  {
   "cell_type": "code",
   "execution_count": 15,
   "metadata": {},
   "outputs": [],
   "source": [
    "def value_in_borrower_gender(x):\n",
    "    \n",
    "    if type(x) is float and np.isnan(x):\n",
    "        #assign label No Values\n",
    "        return \"No values\"\n",
    "    genders = x.split(\",\")\n",
    "    male_count = sum(g.strip() == 'male' for g in genders)\n",
    "    female_count = sum(g.strip() == 'female' for g in genders)\n",
    "    \n",
    "    if(male_count > 0 and female_count > 0):\n",
    "        #assign label Mi\n",
    "        return \"Mixed Gender\"\n",
    "    elif(female_count > 0):\n",
    "        return \"Female\"\n",
    "    elif (male_count > 0):\n",
    "        return \"Male\""
   ]
  },
  {
   "cell_type": "code",
   "execution_count": 16,
   "metadata": {},
   "outputs": [],
   "source": [
    "kiva_raw.borrower_genders = kiva_raw.borrower_genders.apply(value_in_borrower_gender)"
   ]
  },
  {
   "cell_type": "code",
   "execution_count": 17,
   "metadata": {},
   "outputs": [],
   "source": [
    "kiva_non_funded = kiva_raw[kiva_raw['funded_amount'].astype(int) == 0]\n",
    "kiva_partially_funded = kiva_raw[(kiva_raw['loan_amount'] - kiva_raw['funded_amount'].astype(int)>0) & (kiva_raw['funded_amount'] !=0)]\n",
    "kiva_funded = kiva_raw[(kiva_raw['loan_amount'] - kiva_raw['funded_amount'].astype(int)==0)]\n",
    "\n"
   ]
  },
  {
   "cell_type": "markdown",
   "metadata": {},
   "source": [
    "<h3>Visualizing the relation between loan status and gender</h3>"
   ]
  },
  {
   "cell_type": "code",
   "execution_count": 18,
   "metadata": {},
   "outputs": [
    {
     "data": {
      "image/png": "[encoded data removed]",
      "text/plain": [
       "<Figure size 1080x360 with 3 Axes>"
      ]
     },
     "metadata": {},
     "output_type": "display_data"
    }
   ],
   "source": [
    "x = ['female','male','mixed','no desc']\n",
    "\n",
    "\n",
    "fig = plt.figure(figsize=(15,5))\n",
    "fig.add_subplot(131)\n",
    "kiva_funded.borrower_genders.value_counts().plot.bar(color='cornflowerblue');\n",
    "plt.xlabel('Borrower Group/Individual Gender')\n",
    "plt.ylabel('Count')\n",
    "plt.title(\"Fully funded loans\")\n",
    "\n",
    "fig.add_subplot(132)\n",
    "kiva_non_funded.borrower_genders.value_counts().plot.bar(color='cornflowerblue');\n",
    "plt.xlabel('Borrower Group/Individual Gender')\n",
    "plt.ylabel('Count')\n",
    "plt.title(\"Non Funded loans\");\n",
    "\n",
    "\n",
    "fig.add_subplot(133)\n",
    "kiva_partially_funded.borrower_genders.value_counts().plot.bar(color='cornflowerblue');\n",
    "plt.xlabel('Borrower Group/Individual Gender')\n",
    "plt.ylabel('Count')\n",
    "plt.title(\"Partially Funded loans\");\n",
    "\n",
    "\n",
    "\n"
   ]
  },
  {
   "cell_type": "markdown",
   "metadata": {},
   "source": [
    "<b>Loans by gender  </b> <br>\n",
    "As for the gender distribution we can see that there are some clear differences.  When we look at the  funded loans we can see that men are a minority. Most funded loans go to women. The picture starts to change when we look at the non funded loans. Women are still outnumbering the men but the proportion of men among non funded loans has risen, In the third group, the partially funded loans, that proportion has risen even more. \n",
    "The mixed groups show a mixed behaviour. A slightly higher percentage for the partially funded loans when compared to fully funded and a slightly lower precentage when we compare funded and non funded."
   ]
  },
  {
   "cell_type": "markdown",
   "metadata": {},
   "source": [
    "<h3><center>Loans by Sector</center></h3>"
   ]
  },
  {
   "cell_type": "code",
   "execution_count": 19,
   "metadata": {},
   "outputs": [
    {
     "data": {
      "text/plain": [
       "<Figure size 1080x576 with 0 Axes>"
      ]
     },
     "metadata": {},
     "output_type": "display_data"
    },
    {
     "data": {
      "image/png": "[encoded data removed]",
      "text/plain": [
       "<Figure size 1440x360 with 2 Axes>"
      ]
     },
     "metadata": {},
     "output_type": "display_data"
    }
   ],
   "source": [
    "plt.figure(figsize=(15,8))\n",
    "sect = kiva_funded_visual['sector'].value_counts().head(10)\n",
    "sect.values.sum()\n",
    "sect_pct = sect/sect.values.sum()*100\n",
    "\n",
    "\n",
    "sect_unfunded = kiva_non_funded_visual['sector'].value_counts().head(10)\n",
    "sect_unfunded.values.sum()\n",
    "sect_unfunded_pct = sect_unfunded/sect_unfunded.values.sum()*100\n",
    "\n",
    "sect_partially_funded = kiva_partially_funded_visual['sector'].value_counts().head(10)\n",
    "sect_partially_funded.values.sum()\n",
    "sect_partially_funded_pct = sect_partially_funded/sect_partially_funded.values.sum()*100\n",
    "\n",
    "\n",
    "fig = plt.figure(figsize=(20,5))\n",
    "fig.add_subplot(121)\n",
    "\n",
    "\n",
    "plt.bar(sect_pct.index, sect_pct.values,width=0.8,edgecolor='r',align='center', fill=False,label='funded') \n",
    "plt.bar(sect_partially_funded.index,sect_partially_funded_pct.values,width=0.5,edgecolor='g',align='center', fill=False, label='partially funded')\n",
    "leg = ax.legend()\n",
    "plt.xticks(rotation=90)\n",
    "\n",
    "fig.add_subplot(122)\n",
    "plt.bar(sect_pct.index, sect_pct.values,width=0.8,edgecolor='r',align='center', fill=False,label='funded') \n",
    "plt.bar(sect_unfunded_pct.index,sect_unfunded_pct.values,width=0.5,edgecolor='b',align='center', fill=False, label='non funded')\n",
    "\n",
    "leg = ax.legend()\n",
    "plt.xticks(rotation=90)\n",
    "\n",
    "plt.show()\n",
    "\n",
    "\n",
    "\n",
    "\n"
   ]
  },
  {
   "cell_type": "markdown",
   "metadata": {},
   "source": [
    "Agriculture, Personal use, Housing and Education have slightly higher percentages in the group of non funded loans than in the group with funded loads.\n",
    "Services has a much higher percentage in the partially funded loans compared with the funded loans.\n",
    " "
   ]
  },
  {
   "cell_type": "markdown",
   "metadata": {},
   "source": [
    "<h2><center>1.3 Results of the description and visualization</center></h2>"
   ]
  },
  {
   "cell_type": "markdown",
   "metadata": {},
   "source": [
    "<b>Nans and Outiers:</b>The first big takeaway is that both nans and outliers matter in this case. When we think about there is connection behind this. The two small class are not the normal outcome and could therefore be considered as \"outliers\" of the average result. Both outliers and ans are over represented in the classes non funded and partially funded. The real life logic for the outliers is that when you ask for more money than the project deserves you might get a smaller amount. The real life logic behind the nans is even clearer. When you don't provide enough information the lenders are not going to risk their money.<br>\n",
    "<b>Gender:</b>If we compare fundet with non fundet loans we can see men have a higer frequency in non funded loans as compared to fundet loans. This does not apply to the comparison funded and partially funded loans, where the distribution is quiet similar<br>\n",
    "<b>Loan amount, Sector and Terms in months</b> While there are some minor differences in the distributions of these three features in regard to the three classes  it is difficult to see some clear differences.     "
   ]
  },
  {
   "cell_type": "markdown",
   "metadata": {},
   "source": [
    "<center><h2>1.4 Preprocessing Kiva</h2></center>\n",
    "\n",
    "Gender: The feature borrower_gender contains unique values for women and men. It contains also mixed group values. In order to have clearer boundaries I will also include single sex loan applications.\n",
    "Outlier: I will remove the biggest outlier, a 100.000 USD loan that could distort the patterns the algorithms will have to learn.\n",
    "Attributes: To increase computational speed I will only include the following features/columns:<br>\n",
    "loan_amount, activity, sector, country,currency,repayment_interval,borrower_genders,lender_count,use\n",
    "Use: Change the values to No descritiion where there are nans and Description where there was text"
   ]
  },
  {
   "cell_type": "code",
   "execution_count": 20,
   "metadata": {},
   "outputs": [],
   "source": [
    "#remove the biggest outlier"
   ]
  },
  {
   "cell_type": "code",
   "execution_count": 21,
   "metadata": {},
   "outputs": [],
   "source": [
    "#drop the columns that are not included\n",
    "kiva_raw.drop(['id', 'country_code','posted_time','disbursed_time','funded_time','tags','date','region','partner_id' ], axis=1, inplace=True)\n",
    "#kiva_raw.head()\n"
   ]
  },
  {
   "cell_type": "code",
   "execution_count": 22,
   "metadata": {},
   "outputs": [],
   "source": [
    "#create an empty column for the descritpion\n",
    "kiva_raw.insert(loc = 3, column='description',value = 'Yes')\n"
   ]
  },
  {
   "cell_type": "code",
   "execution_count": 23,
   "metadata": {},
   "outputs": [
    {
     "data": {
      "text/html": [
       "<div>\n",
       "<style scoped>\n",
       "    .dataframe tbody tr th:only-of-type {\n",
       "        vertical-align: middle;\n",
       "    }\n",
       "\n",
       "    .dataframe tbody tr th {\n",
       "        vertical-align: top;\n",
       "    }\n",
       "\n",
       "    .dataframe thead th {\n",
       "        text-align: right;\n",
       "    }\n",
       "</style>\n",
       "<table border=\"1\" class=\"dataframe\">\n",
       "  <thead>\n",
       "    <tr style=\"text-align: right;\">\n",
       "      <th></th>\n",
       "      <th>funded_amount</th>\n",
       "      <th>loan_amount</th>\n",
       "      <th>activity</th>\n",
       "      <th>description</th>\n",
       "      <th>sector</th>\n",
       "      <th>use</th>\n",
       "      <th>country</th>\n",
       "      <th>currency</th>\n",
       "      <th>term_in_months</th>\n",
       "      <th>lender_count</th>\n",
       "      <th>borrower_genders</th>\n",
       "      <th>repayment_interval</th>\n",
       "    </tr>\n",
       "  </thead>\n",
       "  <tbody>\n",
       "    <tr>\n",
       "      <th>0</th>\n",
       "      <td>300.0</td>\n",
       "      <td>300.0</td>\n",
       "      <td>Fruits &amp; Vegetables</td>\n",
       "      <td>Yes</td>\n",
       "      <td>Food</td>\n",
       "      <td>To buy seasonal, fresh fruits to sell.</td>\n",
       "      <td>Pakistan</td>\n",
       "      <td>PKR</td>\n",
       "      <td>12.0</td>\n",
       "      <td>12</td>\n",
       "      <td>Female</td>\n",
       "      <td>irregular</td>\n",
       "    </tr>\n",
       "    <tr>\n",
       "      <th>1</th>\n",
       "      <td>575.0</td>\n",
       "      <td>575.0</td>\n",
       "      <td>Rickshaw</td>\n",
       "      <td>Yes</td>\n",
       "      <td>Transportation</td>\n",
       "      <td>to repair and maintain the auto rickshaw used ...</td>\n",
       "      <td>Pakistan</td>\n",
       "      <td>PKR</td>\n",
       "      <td>11.0</td>\n",
       "      <td>14</td>\n",
       "      <td>Female</td>\n",
       "      <td>irregular</td>\n",
       "    </tr>\n",
       "    <tr>\n",
       "      <th>2</th>\n",
       "      <td>150.0</td>\n",
       "      <td>150.0</td>\n",
       "      <td>Transportation</td>\n",
       "      <td>Yes</td>\n",
       "      <td>Transportation</td>\n",
       "      <td>To repair their old cycle-van and buy another ...</td>\n",
       "      <td>India</td>\n",
       "      <td>INR</td>\n",
       "      <td>43.0</td>\n",
       "      <td>6</td>\n",
       "      <td>Female</td>\n",
       "      <td>bullet</td>\n",
       "    </tr>\n",
       "    <tr>\n",
       "      <th>3</th>\n",
       "      <td>200.0</td>\n",
       "      <td>200.0</td>\n",
       "      <td>Embroidery</td>\n",
       "      <td>Yes</td>\n",
       "      <td>Arts</td>\n",
       "      <td>to purchase an embroidery machine and a variet...</td>\n",
       "      <td>Pakistan</td>\n",
       "      <td>PKR</td>\n",
       "      <td>11.0</td>\n",
       "      <td>8</td>\n",
       "      <td>Female</td>\n",
       "      <td>irregular</td>\n",
       "    </tr>\n",
       "    <tr>\n",
       "      <th>4</th>\n",
       "      <td>400.0</td>\n",
       "      <td>400.0</td>\n",
       "      <td>Milk Sales</td>\n",
       "      <td>Yes</td>\n",
       "      <td>Food</td>\n",
       "      <td>to purchase one buffalo.</td>\n",
       "      <td>Pakistan</td>\n",
       "      <td>PKR</td>\n",
       "      <td>14.0</td>\n",
       "      <td>16</td>\n",
       "      <td>Female</td>\n",
       "      <td>monthly</td>\n",
       "    </tr>\n",
       "  </tbody>\n",
       "</table>\n",
       "</div>"
      ],
      "text/plain": [
       "   funded_amount  loan_amount             activity description  \\\n",
       "0          300.0        300.0  Fruits & Vegetables         Yes   \n",
       "1          575.0        575.0             Rickshaw         Yes   \n",
       "2          150.0        150.0       Transportation         Yes   \n",
       "3          200.0        200.0           Embroidery         Yes   \n",
       "4          400.0        400.0           Milk Sales         Yes   \n",
       "\n",
       "           sector                                                use  \\\n",
       "0            Food            To buy seasonal, fresh fruits to sell.    \n",
       "1  Transportation  to repair and maintain the auto rickshaw used ...   \n",
       "2  Transportation  To repair their old cycle-van and buy another ...   \n",
       "3            Arts  to purchase an embroidery machine and a variet...   \n",
       "4            Food                           to purchase one buffalo.   \n",
       "\n",
       "    country currency  term_in_months  lender_count borrower_genders  \\\n",
       "0  Pakistan      PKR            12.0            12           Female   \n",
       "1  Pakistan      PKR            11.0            14           Female   \n",
       "2     India      INR            43.0             6           Female   \n",
       "3  Pakistan      PKR            11.0             8           Female   \n",
       "4  Pakistan      PKR            14.0            16           Female   \n",
       "\n",
       "  repayment_interval  \n",
       "0          irregular  \n",
       "1          irregular  \n",
       "2             bullet  \n",
       "3          irregular  \n",
       "4            monthly  "
      ]
     },
     "execution_count": 23,
     "metadata": {},
     "output_type": "execute_result"
    }
   ],
   "source": [
    "kiva_raw.head()\n"
   ]
  },
  {
   "cell_type": "code",
   "execution_count": null,
   "metadata": {},
   "outputs": [],
   "source": []
  },
  {
   "cell_type": "code",
   "execution_count": 24,
   "metadata": {},
   "outputs": [],
   "source": [
    "#populate the columnn with the values Description and No Description if there is a text\n",
    "\n",
    "\n",
    "kiva_raw['use'].fillna('No', inplace=True)\n",
    "condition_desc = (kiva_raw['use'] =='No')\n",
    "kiva_raw.loc[condition_desc, 'description'] = 'No'\n",
    "\n",
    "\n",
    "\n"
   ]
  },
  {
   "cell_type": "code",
   "execution_count": 25,
   "metadata": {},
   "outputs": [
    {
     "data": {
      "text/plain": [
       "Yes    666973\n",
       "No       4232\n",
       "Name: description, dtype: int64"
      ]
     },
     "execution_count": 25,
     "metadata": {},
     "output_type": "execute_result"
    }
   ],
   "source": [
    "kiva_raw['description'].value_counts()"
   ]
  },
  {
   "cell_type": "code",
   "execution_count": 26,
   "metadata": {},
   "outputs": [],
   "source": [
    "kiva_raw.drop(['use'], axis=1, inplace=True)"
   ]
  },
  {
   "cell_type": "markdown",
   "metadata": {},
   "source": [
    "<center><h2>Preprocessing the Y</h2><center>"
   ]
  },
  {
   "cell_type": "markdown",
   "metadata": {},
   "source": [
    "<b>Assigning the labels for the three classes</b>The three labels will be Funded, Non funded and partially funded according to the three conditions mentioned at the start of the project. Couriosly there are two loan apllications that didn't match any of the three conditions. There were two loans thart did get a higher funding than asked. Thes two will be removed as they would create an extra and very tiny class. At the same time I will remove the column funded amount as this information is not known when the borrower submits the loan application.\n"
   ]
  },
  {
   "cell_type": "code",
   "execution_count": 27,
   "metadata": {},
   "outputs": [],
   "source": [
    "#create a column to hild the labels\n",
    "#kiva.loan_status.unique()\n",
    "#create the extra column\n",
    "kiva_raw.insert(loc = 3, column='loan_status',value = 'placeholder')\n"
   ]
  },
  {
   "cell_type": "code",
   "execution_count": 28,
   "metadata": {},
   "outputs": [],
   "source": [
    "\n",
    "#compute and insert partially fondet loans\n",
    "condition2 = (kiva_raw['loan_amount'] - kiva_raw['funded_amount'].astype(int)>0) & (kiva_raw['funded_amount'] !=0)\n",
    "kiva_raw.loc[condition2, 'loan_status'] = 'partially funded'\n",
    "partially_funded = kiva_raw.loc[kiva_raw.loan_status == 'partially funded']\n",
    "#compute and insert fully fondet loans\n",
    "condition3 = (kiva_raw['loan_amount'] - kiva_raw['funded_amount'].astype(int)==0)\n",
    "kiva_raw.loc[condition3, 'loan_status'] = 'Totally funded'\n",
    "totally_funded = kiva_raw.loc[kiva_raw.loan_status == 'Totally funded']\n",
    "#compute and insert non fondet loans\n",
    "condition1 = (kiva_raw['funded_amount'] ==0)\n",
    "kiva_raw.loc[condition1, 'loan_status'] = 'not funded'\n",
    "not_funded = kiva_raw.loc[kiva_raw.loan_status == 'not funded']\n",
    "#find, analyze and remove loans that don'fall into one of the three classes\n",
    "notvalid = (kiva_raw[(kiva_raw['loan_status']=='placeholder')])\n",
    "#notvalid.head()"
   ]
  },
  {
   "cell_type": "code",
   "execution_count": 29,
   "metadata": {},
   "outputs": [],
   "source": [
    "#Remove the two loans that were overfunded\n",
    "notvalid = (kiva_raw['loan_status']=='placeholder')\n",
    "kiva_raw = kiva_raw.drop(kiva_raw[notvalid].index)"
   ]
  },
  {
   "cell_type": "code",
   "execution_count": 30,
   "metadata": {},
   "outputs": [],
   "source": [
    "#REmove the funded amount as this amoun is not known when the borrower submits a loan application\n",
    "kiva_raw.drop(['funded_amount'], axis=1, inplace=True)"
   ]
  },
  {
   "cell_type": "code",
   "execution_count": 31,
   "metadata": {},
   "outputs": [],
   "source": [
    "#this extra step is for creating a sample of kiva for later use in GridserchCv for the aufgmented dataset\n",
    "\n",
    "kiva_ml=kiva_raw\n",
    "kiva_ml.to_csv('data_files/kiva_ml.csv',index=False)\n",
    "\n"
   ]
  },
  {
   "cell_type": "code",
   "execution_count": null,
   "metadata": {},
   "outputs": [],
   "source": []
  },
  {
   "cell_type": "code",
   "execution_count": 32,
   "metadata": {},
   "outputs": [],
   "source": [
    "#Separate the Y from the x / the features \n",
    "loan_status = kiva_ml.loan_status\n",
    "kiva_ml.drop('loan_status', axis=1, inplace=True)"
   ]
  },
  {
   "cell_type": "code",
   "execution_count": 33,
   "metadata": {},
   "outputs": [],
   "source": [
    "\n",
    "y = loan_status"
   ]
  },
  {
   "cell_type": "code",
   "execution_count": null,
   "metadata": {},
   "outputs": [],
   "source": []
  },
  {
   "cell_type": "markdown",
   "metadata": {},
   "source": []
  },
  {
   "cell_type": "markdown",
   "metadata": {},
   "source": []
  },
  {
   "cell_type": "markdown",
   "metadata": {},
   "source": [
    "<b>Encoding the labels</b>"
   ]
  },
  {
   "cell_type": "code",
   "execution_count": 34,
   "metadata": {},
   "outputs": [],
   "source": [
    "from sklearn import preprocessing\n",
    "labelencoder = preprocessing.LabelEncoder()\n",
    "y = labelencoder.fit_transform(y)\n",
    "\n",
    "\n"
   ]
  },
  {
   "cell_type": "code",
   "execution_count": 35,
   "metadata": {},
   "outputs": [],
   "source": [
    "kiva_ml = pd.get_dummies(data=kiva_ml, columns=['activity','description', 'sector', 'country','currency','repayment_interval','borrower_genders'])\n"
   ]
  },
  {
   "cell_type": "code",
   "execution_count": null,
   "metadata": {},
   "outputs": [],
   "source": []
  },
  {
   "cell_type": "code",
   "execution_count": 36,
   "metadata": {},
   "outputs": [],
   "source": [
    "from sklearn.model_selection import train_test_split\n",
    "\n",
    "X_train, X_test, y_train, y_test = train_test_split(kiva_ml, y, test_size=.2, random_state=42)"
   ]
  },
  {
   "cell_type": "code",
   "execution_count": null,
   "metadata": {},
   "outputs": [],
   "source": []
  },
  {
   "cell_type": "markdown",
   "metadata": {},
   "source": [
    "<center><h2>1.5 Establishing a Benchmark</h2><center>"
   ]
  },
  {
   "cell_type": "markdown",
   "metadata": {},
   "source": [
    "\n"
   ]
  },
  {
   "cell_type": "markdown",
   "metadata": {},
   "source": [
    "I have analized several models to establish a Benchmark for the project. The first was the approach we used in the CNN project were we used a the result of theretical random guess tocompute recall, precision and f1 score. The other approach I analized was a simple linear modell. However, considering the differences in size  of the three classes I wanted aa modell that was better in predicting the small classes, so I decided to use Sklearns logistic regression.\n"
   ]
  },
  {
   "cell_type": "markdown",
   "metadata": {},
   "source": [
    "<center><h2>The metrics for the modell</h2><center>"
   ]
  },
  {
   "cell_type": "markdown",
   "metadata": {},
   "source": [
    "We are dealing with classification and are we intersted in predicting as good as possible, while reducing the number of missclassifications.\n",
    "\n",
    "In order to understand our metrics we will have to look how the predictions match  the actual values. We have 4 possible results for the combinations prediction and actial value.\n",
    "\n",
    "Imagine we have two possile states A and B (B beeing not A ie. the opposite value) \n",
    "\n",
    "<b>True positives:</b> Our model predicts A and the actual value is A\n",
    "<b>True negatives:</b> The value we predicts B and the actual value is B\n",
    "\n",
    "<b>False positves:</b> Our model predicts A but the actual value  is B\n",
    "<b>False Negatives:</b> Our model predicts B but the actual value is A\n",
    "\n",
    "Our total actual values of A will becomposed of True Positives and False Negatives\n",
    "\n",
    "\n",
    "For our modell I will use the followintg metrics:\n",
    "\n",
    "<center><b>Metrics</b></center>\n",
    "<b>Recall:</b> True positive / (True positives + False Negatives)<br>\n",
    "Recall gives us the the ratio of the correct predicited members of a class and the total members of a class.\n",
    "\n",
    "\n",
    "<b>Precission: :</b> True positive / (True positives + True Negatives)<br>\n",
    "Gives us the ratio of the between the correct predicted members of a class and the sum of all correct predictions\n",
    "\n",
    "\n",
    "<b>F1score: :</b> Precision * Recall / Precision+Recall<br>\n",
    "In order to get the best performing modell we want to balance precsion and reacal. We can combine precision and recall with the harmonic mean from both, called the traditional F-measure or balanced F-score.\n",
    "\n",
    "\n",
    "\n",
    "\n",
    "\n"
   ]
  },
  {
   "cell_type": "code",
   "execution_count": 37,
   "metadata": {},
   "outputs": [],
   "source": [
    "\n",
    "from sklearn.linear_model import LogisticRegression\n",
    "from sklearn import metrics\n",
    "\n",
    "log_reg = LogisticRegression()\n",
    "log_reg.fit(X_train, y_train)\n",
    "y_pred_log = log_reg.predict(X_test)"
   ]
  },
  {
   "cell_type": "code",
   "execution_count": 38,
   "metadata": {},
   "outputs": [
    {
     "name": "stdout",
     "output_type": "stream",
     "text": [
      "                  precision    recall  f1-score   support\n",
      "\n",
      "     full funded       0.95      0.99      0.97    124604\n",
      "      non funded       1.00      0.94      0.97       660\n",
      "partially funded       0.71      0.25      0.37      8977\n",
      "\n",
      "     avg / total       0.93      0.94      0.93    134241\n",
      "\n"
     ]
    }
   ],
   "source": [
    "\n",
    "from sklearn.metrics import classification_report\n",
    "print(classification_report(y_test,y_pred_log, target_names=['full funded', 'non funded','partially funded']))"
   ]
  },
  {
   "cell_type": "code",
   "execution_count": 48,
   "metadata": {},
   "outputs": [
    {
     "data": {
      "image/png": "[encoded data removed]",
      "text/plain": [
       "<Figure size 720x576 with 2 Axes>"
      ]
     },
     "metadata": {},
     "output_type": "display_data"
    }
   ],
   "source": [
    "from sklearn.metrics import classification_report,confusion_matrix\n",
    "import matplotlib.pyplot as plt\n",
    "import seaborn as sns\n",
    "\n",
    "\n",
    "confusion_dnn = confusion_matrix(y_test, y_pred_log)\n",
    "cmdata = pd.DataFrame(confusion_dnn)\n",
    "plt.figure(figsize=(10,8))\n",
    "sns.heatmap(cmdata, annot = True, fmt='g')\n",
    "plt.xlabel('Predicted')\n",
    "plt.ylabel('True')\n",
    "plt.show()"
   ]
  },
  {
   "cell_type": "markdown",
   "metadata": {},
   "source": [
    "<b>Performance of the benchmark</b> \n",
    "\n",
    "For a basuc model the performance was good for fully funded and non funded loasn. However the modell did not perform weel on the paritally funded loans. We can see non funded and funded loans as two extrems where the partially funded loans are the group in the middle. They probaby share some charactersistics from both groups and a simple algorithm has therefore problems  distinguishing / separating them from the others."
   ]
  },
  {
   "cell_type": "markdown",
   "metadata": {},
   "source": [
    "<h1><center>2)Implement 4 Sklearn Algorithms</center></h1>"
   ]
  },
  {
   "cell_type": "markdown",
   "metadata": {},
   "source": [
    "<h2><center>2.1 Create a pipeline of four Sklearn Algorithms</center></h2>\n"
   ]
  },
  {
   "cell_type": "markdown",
   "metadata": {},
   "source": [
    "<b>RandomForestClassifier: </b>A random forest is a meta estimator that uses  a number of individual decision tree classifiers on various parts(subsamples) of the dataset. The RandomForestClassifier uses averaging to improve the predictive accuracy and keeps at the same time overfitting down.\n",
    "Advantages: Minimizes overfitting, \n",
    "Disadvantages: Computationally expensive.\n",
    "    \n",
    "<b>MLPClassifier</b> Is the implementation of a feedforward neural network. Multilayer perceptrons, are a combination of multiple neurons connected in the form a network that can solve problems when the data is not linearly separable.<br>\n",
    "Advantages; can learn linear and non-linear models\n",
    "Disadvantages: Complex algorithm, computationally expensive\n",
    "\n",
    "<b>AdaBoostClassifier</b> which is the short form for Adaptive Boosting is, like the RandomForrestClassifier, a meta-estimator. It combines many weak (simple) learners to create a highly accurate prediction. It uses an iterative process where it changes the sample distribution by modifying the weights attached to each of the instances. The weights of wrongly predicted instances are increased and correctly predicted instances are increased.\n",
    "\n",
    "Advantages: Like RandomForrest it is less prone to overfitting\n",
    "Disadvantages: AdaBoost can be sensitive to noisy data and outliers. \n",
    "\n",
    "<b>GaussianNB</b>Is a classifier that is based on Bayes’ Theorem.  It assumes the independence among predictors and all of the predictors independently contribute to the probability of a the classification outcome.\n",
    "\n",
    "Advantages: Fast, very simple and straightforward implementation\n",
    "Disadvantages: The “naive” part. The algorithm makes a very strict assumption that the features are independant.\n"
   ]
  },
  {
   "cell_type": "code",
   "execution_count": 40,
   "metadata": {},
   "outputs": [
    {
     "name": "stdout",
     "output_type": "stream",
     "text": [
      "GaussianNB(priors=None)\n",
      "0.15855449929726328\n",
      "                  precision    recall  f1-score   support\n",
      "\n",
      "     full funded       0.99      0.08      0.16    124604\n",
      "      non funded       0.82      0.98      0.89       660\n",
      "partially funded       0.07      0.99      0.13      8977\n",
      "\n",
      "     avg / total       0.93      0.15      0.16    134241\n",
      "\n",
      "MLPClassifier(activation='relu', alpha=0.0001, batch_size='auto', beta_1=0.9,\n",
      "       beta_2=0.999, early_stopping=False, epsilon=1e-08,\n",
      "       hidden_layer_sizes=(100,), learning_rate='constant',\n",
      "       learning_rate_init=0.001, max_iter=200, momentum=0.9,\n",
      "       nesterovs_momentum=True, power_t=0.5, random_state=None,\n",
      "       shuffle=True, solver='adam', tol=0.0001, validation_fraction=0.1,\n",
      "       verbose=False, warm_start=False)\n",
      "0.9585992644220291\n",
      "                  precision    recall  f1-score   support\n",
      "\n",
      "     full funded       0.97      0.99      0.98    124604\n",
      "      non funded       0.74      0.73      0.73       660\n",
      "partially funded       0.76      0.62      0.68      8977\n",
      "\n",
      "     avg / total       0.96      0.96      0.96    134241\n",
      "\n",
      "RandomForestClassifier(bootstrap=True, class_weight=None, criterion='gini',\n",
      "            max_depth=None, max_features='auto', max_leaf_nodes=None,\n",
      "            min_impurity_decrease=0.0, min_impurity_split=None,\n",
      "            min_samples_leaf=1, min_samples_split=2,\n",
      "            min_weight_fraction_leaf=0.0, n_estimators=10, n_jobs=1,\n",
      "            oob_score=False, random_state=None, verbose=0,\n",
      "            warm_start=False)\n",
      "0.9551892081253072\n",
      "                  precision    recall  f1-score   support\n",
      "\n",
      "     full funded       0.97      0.99      0.98    124604\n",
      "      non funded       0.99      0.97      0.98       660\n",
      "partially funded       0.76      0.55      0.64      8977\n",
      "\n",
      "     avg / total       0.95      0.96      0.96    134241\n",
      "\n",
      "AdaBoostClassifier(algorithm='SAMME.R', base_estimator=None,\n",
      "          learning_rate=1.0, n_estimators=50, random_state=None)\n",
      "0.9209844635968392\n",
      "                  precision    recall  f1-score   support\n",
      "\n",
      "     full funded       0.94      0.99      0.97    124604\n",
      "      non funded       1.00      1.00      1.00       660\n",
      "partially funded       0.55      0.19      0.29      8977\n",
      "\n",
      "     avg / total       0.92      0.94      0.92    134241\n",
      "\n"
     ]
    }
   ],
   "source": [
    "\n",
    "\n",
    "from sklearn.pipeline import Pipeline\n",
    "from sklearn.preprocessing import  MinMaxScaler\n",
    "\n",
    "from sklearn.naive_bayes import GaussianNB\n",
    "from sklearn.ensemble import RandomForestClassifier\n",
    "from sklearn.neural_network import MLPClassifier\n",
    "from sklearn.ensemble import AdaBoostClassifier\n",
    "\n",
    "classifiers = [GaussianNB(),MLPClassifier(),RandomForestClassifier(),AdaBoostClassifier()]\n",
    "\n",
    "pipeline = Pipeline([\n",
    "    ('normalizer', MinMaxScaler()),\n",
    "    ('clf', LogisticRegression())\n",
    "])\n",
    "pipeline.steps\n",
    "\n",
    "\n",
    "\n",
    "for classifier in classifiers:\n",
    "    pipeline.set_params(clf = classifier)\n",
    "    pipeline.fit(X_train,y_train)\n",
    "    \n",
    "    y_pred_p = pipeline.predict(X_test)\n",
    "    \n",
    "    print(classifier)\n",
    "    print(metrics.f1_score(y_test, y_pred_p, average='weighted', labels=np.unique(y_pred_p)))\n",
    "    print(classification_report(y_test,y_pred_p, target_names=['full funded', 'non funded','partially funded']))\n",
    "    \n",
    "            "
   ]
  },
  {
   "cell_type": "markdown",
   "metadata": {},
   "source": [
    "<h2><center>Select the best performing classifier  and fine tune parameters</center></h2>"
   ]
  },
  {
   "cell_type": "markdown",
   "metadata": {},
   "source": [
    "There are two classifiers that perform quite well. Adaboost and Randomforrest\n",
    "I want the classifier to perform well on the two smallest classes so I chose the Randomforest classifier. It performs slightly worse on for the non funded loans but much better for the partially funded loans when compared to Adaboost.\n",
    "\n",
    "Regarding the parameters I have chosen to concentrate on three:\n",
    "\n",
    "\n",
    "<b>n_estimators:</b>This parameter determines the number of individual trees in our forrest. Due to the fact that result of the forest is based on the average of all the trees the the number of trees is not too sensitive to overfitting. So there is a high degree of tuning freedom with this parameter.<br>\n",
    "<b>max_features:</b>Max_features determines how many features are used for each split. The default is all features. The idea to limit the number of features is to give predominance to the most relevant features.\n",
    "\n",
    "\n",
    "<b>min_samples_leaf:</b>Gives the minimum number of samples required to be at a leaf node(i.e the leaf at the bottom of the tree). The default value is 1. Smaller leave sizes can could catch noisy data so I will use the default value and 2.\n",
    "\n",
    "\n",
    "\n"
   ]
  },
  {
   "cell_type": "code",
   "execution_count": 41,
   "metadata": {},
   "outputs": [],
   "source": [
    "from sklearn.model_selection import RandomizedSearchCV\n",
    "clasif = RandomForestClassifier()\n",
    "\n",
    "params = {'max_features': [0.2,0.3,0.4],'min_samples_leaf':[1,2], 'n_estimators':[100,120]}\n",
    "\n",
    "random_search = RandomizedSearchCV(clasif, param_distributions=params,\n",
    "                                  n_iter=10, cv=3)\n",
    "\n",
    "random_result = random_search.fit(X_train, y_train)"
   ]
  },
  {
   "cell_type": "code",
   "execution_count": 42,
   "metadata": {},
   "outputs": [
    {
     "name": "stdout",
     "output_type": "stream",
     "text": [
      "{'n_estimators': 120, 'min_samples_leaf': 2, 'max_features': 0.2} 0.9642451421143395\n"
     ]
    }
   ],
   "source": [
    "print(random_result.best_params_,random_result.best_score_)"
   ]
  },
  {
   "cell_type": "code",
   "execution_count": 43,
   "metadata": {},
   "outputs": [
    {
     "name": "stdout",
     "output_type": "stream",
     "text": [
      "0.9633147250529873\n",
      "                  precision    recall  f1-score   support\n",
      "\n",
      "     full funded       0.97      0.99      0.98    124604\n",
      "      non funded       1.00      1.00      1.00       660\n",
      "partially funded       0.80      0.64      0.71      8977\n",
      "\n",
      "     avg / total       0.96      0.97      0.96    134241\n",
      "\n"
     ]
    }
   ],
   "source": [
    "Rf = RandomForestClassifier(max_features=0.3, min_samples_leaf = 2, n_estimators=120)\n",
    "\n",
    "Rf.fit(X_train, y_train)\n",
    "y_pred_Rf = Rf.predict(X_test)\n",
    "print(metrics.f1_score(y_test, y_pred_Rf, average='weighted', labels=np.unique(y_pred_Rf)))\n",
    "print(classification_report(y_test,y_pred_Rf, target_names=['full funded', 'non funded','partially funded']))"
   ]
  },
  {
   "cell_type": "code",
   "execution_count": 49,
   "metadata": {},
   "outputs": [
    {
     "data": {
      "image/png": "[encoded data removed]",
      "text/plain": [
       "<Figure size 720x576 with 2 Axes>"
      ]
     },
     "metadata": {},
     "output_type": "display_data"
    }
   ],
   "source": [
    "from sklearn.metrics import classification_report,confusion_matrix\n",
    "import matplotlib.pyplot as plt\n",
    "import seaborn as sns\n",
    "\n",
    "confusion_dnn = confusion_matrix(y_test, y_pred_Rf)\n",
    "cmdata = pd.DataFrame(confusion_dnn)\n",
    "plt.figure(figsize=(10,8))\n",
    "sns.heatmap(cmdata, annot = True, fmt='g')\n",
    "plt.xlabel('Predicted')\n",
    "plt.ylabel('True')\n",
    "plt.show()"
   ]
  },
  {
   "cell_type": "markdown",
   "metadata": {},
   "source": [
    "\n",
    "\n"
   ]
  },
  {
   "cell_type": "markdown",
   "metadata": {},
   "source": [
    "<center><h2>Conclusion of the first part</h2></center>"
   ]
  },
  {
   "cell_type": "markdown",
   "metadata": {},
   "source": [
    "\n"
   ]
  },
  {
   "cell_type": "markdown",
   "metadata": {},
   "source": [
    "The best Sklearn classifier shows some really impressive results for the smallest class. Of the non funded loans, that were predicted non funded, all were correct. What's more, as stated in the intro part we had two prediction/reality combinations that could have the biggest negative consequences for the borrower. The two were: predicting a loan to be funded when it really was not funded and predicting a loan to be partially funded while it actually was not funded. There are no instances of these two cases.\n",
    "\n",
    "There are though, some issues when we look at the classification for the partially and fully funded classes. The biggest number of miscalculations happens between these two.\n",
    "\n",
    "That could be due to the fact that a partially funded loan shares more common patterns with a funded loan than with non funded loan. A non funded loan has maybe more substantial flaws that makes it easier to be recognized."
   ]
  },
  {
   "cell_type": "code",
   "execution_count": null,
   "metadata": {},
   "outputs": [],
   "source": []
  }
 ],
 "metadata": {
  "kernelspec": {
   "display_name": "Python 3",
   "language": "python",
   "name": "python3"
  },
  "language_info": {
   "codemirror_mode": {
    "name": "ipython",
    "version": 3
   },
   "file_extension": ".py",
   "mimetype": "text/x-python",
   "name": "python",
   "nbconvert_exporter": "python",
   "pygments_lexer": "ipython3",
   "version": "3.6.5"
  }
 },
 "nbformat": 4,
 "nbformat_minor": 2
}
